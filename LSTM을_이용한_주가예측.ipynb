{
  "nbformat": 4,
  "nbformat_minor": 0,
  "metadata": {
    "colab": {
      "provenance": [],
      "authorship_tag": "ABX9TyPkg2nNg/Mrnr3RSB69iHcL",
      "include_colab_link": true
    },
    "kernelspec": {
      "name": "python3",
      "display_name": "Python 3"
    },
    "language_info": {
      "name": "python"
    }
  },
  "cells": [
    {
      "cell_type": "markdown",
      "metadata": {
        "id": "view-in-github",
        "colab_type": "text"
      },
      "source": [
        "<a href=\"https://colab.research.google.com/github/joomj2000/SKT_FLY_AI/blob/main/LSTM%EC%9D%84_%EC%9D%B4%EC%9A%A9%ED%95%9C_%EC%A3%BC%EA%B0%80%EC%98%88%EC%B8%A1.ipynb\" target=\"_parent\"><img src=\"https://colab.research.google.com/assets/colab-badge.svg\" alt=\"Open In Colab\"/></a>"
      ]
    },
    {
      "cell_type": "code",
      "source": [
        "!pip install finance-datareader\n"
      ],
      "metadata": {
        "colab": {
          "base_uri": "https://localhost:8080/"
        },
        "id": "SaNSj56iu2Ar",
        "outputId": "f64cc4ea-25fa-47f4-99fc-31a16c5f7e08"
      },
      "execution_count": 14,
      "outputs": [
        {
          "output_type": "stream",
          "name": "stdout",
          "text": [
            "Requirement already satisfied: finance-datareader in /usr/local/lib/python3.10/dist-packages (0.9.90)\n",
            "Requirement already satisfied: pandas>=0.19.2 in /usr/local/lib/python3.10/dist-packages (from finance-datareader) (2.0.3)\n",
            "Requirement already satisfied: requests>=2.3.0 in /usr/local/lib/python3.10/dist-packages (from finance-datareader) (2.31.0)\n",
            "Requirement already satisfied: requests-file in /usr/local/lib/python3.10/dist-packages (from finance-datareader) (2.1.0)\n",
            "Requirement already satisfied: lxml in /usr/local/lib/python3.10/dist-packages (from finance-datareader) (4.9.4)\n",
            "Requirement already satisfied: tqdm in /usr/local/lib/python3.10/dist-packages (from finance-datareader) (4.66.4)\n",
            "Requirement already satisfied: python-dateutil>=2.8.2 in /usr/local/lib/python3.10/dist-packages (from pandas>=0.19.2->finance-datareader) (2.8.2)\n",
            "Requirement already satisfied: pytz>=2020.1 in /usr/local/lib/python3.10/dist-packages (from pandas>=0.19.2->finance-datareader) (2023.4)\n",
            "Requirement already satisfied: tzdata>=2022.1 in /usr/local/lib/python3.10/dist-packages (from pandas>=0.19.2->finance-datareader) (2024.1)\n",
            "Requirement already satisfied: numpy>=1.21.0 in /usr/local/lib/python3.10/dist-packages (from pandas>=0.19.2->finance-datareader) (1.25.2)\n",
            "Requirement already satisfied: charset-normalizer<4,>=2 in /usr/local/lib/python3.10/dist-packages (from requests>=2.3.0->finance-datareader) (3.3.2)\n",
            "Requirement already satisfied: idna<4,>=2.5 in /usr/local/lib/python3.10/dist-packages (from requests>=2.3.0->finance-datareader) (3.7)\n",
            "Requirement already satisfied: urllib3<3,>=1.21.1 in /usr/local/lib/python3.10/dist-packages (from requests>=2.3.0->finance-datareader) (2.0.7)\n",
            "Requirement already satisfied: certifi>=2017.4.17 in /usr/local/lib/python3.10/dist-packages (from requests>=2.3.0->finance-datareader) (2024.6.2)\n",
            "Requirement already satisfied: six>=1.5 in /usr/local/lib/python3.10/dist-packages (from python-dateutil>=2.8.2->pandas>=0.19.2->finance-datareader) (1.16.0)\n"
          ]
        }
      ]
    },
    {
      "cell_type": "code",
      "source": [
        "!pip show finance-datareader\n"
      ],
      "metadata": {
        "colab": {
          "base_uri": "https://localhost:8080/"
        },
        "id": "X3bJ7hOpvGxY",
        "outputId": "13172750-2892-47ab-a897-ecdab2c60b9d"
      },
      "execution_count": 17,
      "outputs": [
        {
          "output_type": "stream",
          "name": "stdout",
          "text": [
            "Name: finance-datareader\n",
            "Version: 0.9.90\n",
            "Summary: Financial data reader (price, stock list of markets)\n",
            "Home-page: https://github.com/financedata/financedatareader\n",
            "Author: FinanceData.KR\n",
            "Author-email: plusjune@financedata.kr\n",
            "License: MIT License\n",
            "Location: /usr/local/lib/python3.10/dist-packages\n",
            "Requires: lxml, pandas, requests, requests-file, tqdm\n",
            "Required-by: \n"
          ]
        }
      ]
    },
    {
      "cell_type": "code",
      "source": [
        "import pandas as pd\n",
        "import numpy as np\n",
        "import matplotlib.pyplot as plt\n",
        "import seaborn as sns\n",
        "import os\n",
        "import FinanceDataReader as fdr\n",
        "\n"
      ],
      "metadata": {
        "id": "vZamYNGttUbS"
      },
      "execution_count": 81,
      "outputs": []
    },
    {
      "cell_type": "code",
      "source": [
        "import warnings\n",
        "%matplotlib inline\n",
        "warnings.filterwarnings('ignore')\n",
        "sk=fdr.DataReader('066570')"
      ],
      "metadata": {
        "id": "iPWgpwdEtkuq"
      },
      "execution_count": 82,
      "outputs": []
    },
    {
      "cell_type": "code",
      "source": [
        "sk['Year']=sk.index.year\n",
        "sk['Month']=sk.index.month\n",
        "sk['Day']=sk.index.day"
      ],
      "metadata": {
        "id": "im2aBJT4tsfL"
      },
      "execution_count": 83,
      "outputs": []
    },
    {
      "cell_type": "code",
      "source": [],
      "metadata": {
        "id": "Q7mPpbwlxab1"
      },
      "execution_count": 83,
      "outputs": []
    },
    {
      "cell_type": "code",
      "source": [
        "from sklearn.preprocessing import MinMaxScaler\n",
        "\n",
        "scaler=MinMaxScaler()\n",
        "scale_cols=['Open','High','Low','Close','Volume']\n",
        "scaled=scaler.fit_transform(sk[scale_cols])\n"
      ],
      "metadata": {
        "id": "VYzlSXkvvfRC"
      },
      "execution_count": 84,
      "outputs": []
    },
    {
      "cell_type": "code",
      "source": [
        "df=pd.DataFrame(scaled,columns=scale_cols)"
      ],
      "metadata": {
        "id": "M7AjecZgwehe"
      },
      "execution_count": 85,
      "outputs": []
    },
    {
      "cell_type": "code",
      "source": [
        "from sklearn.model_selection import train_test_split\n",
        "x_train,x_test,y_train,y_test=train_test_split(df.drop('Close',axis=1),df['Close'],test_size=0.2,random_state=0,shuffle=False)\n"
      ],
      "metadata": {
        "id": "HVk-Y2bkwq97"
      },
      "execution_count": 86,
      "outputs": []
    },
    {
      "cell_type": "code",
      "source": [
        "x_train.shape, y_train.shape"
      ],
      "metadata": {
        "colab": {
          "base_uri": "https://localhost:8080/"
        },
        "id": "67udDJYuxp3u",
        "outputId": "012bdf09-d507-4fb4-d0a5-1a3dea968c0e"
      },
      "execution_count": 87,
      "outputs": [
        {
          "output_type": "execute_result",
          "data": {
            "text/plain": [
              "((4388, 4), (4388,))"
            ]
          },
          "metadata": {},
          "execution_count": 87
        }
      ]
    },
    {
      "cell_type": "code",
      "source": [
        "x_train"
      ],
      "metadata": {
        "colab": {
          "base_uri": "https://localhost:8080/",
          "height": 424
        },
        "id": "dl9oxnGOwzkh",
        "outputId": "884da59c-da8f-438c-8ba0-b7c6036003ac"
      },
      "execution_count": 88,
      "outputs": [
        {
          "output_type": "execute_result",
          "data": {
            "text/plain": [
              "          Open      High       Low    Volume\n",
              "0     0.168839  0.207920  0.185347  0.364920\n",
              "1     0.202603  0.192942  0.196439  0.237844\n",
              "2     0.186037  0.180961  0.169026  0.204549\n",
              "3     0.157371  0.154596  0.152712  0.170310\n",
              "4     0.136979  0.152199  0.142922  0.182381\n",
              "...        ...       ...       ...       ...\n",
              "4383  0.243101  0.227449  0.256741  0.018186\n",
              "4384  0.245057  0.242164  0.262752  0.040251\n",
              "4385  0.255488  0.245843  0.272769  0.022647\n",
              "4386  0.262007  0.245843  0.274772  0.010823\n",
              "4387  0.262007  0.247069  0.274772  0.011909\n",
              "\n",
              "[4388 rows x 4 columns]"
            ],
            "text/html": [
              "\n",
              "  <div id=\"df-c580060f-961d-410c-b4f6-6d73eb901067\" class=\"colab-df-container\">\n",
              "    <div>\n",
              "<style scoped>\n",
              "    .dataframe tbody tr th:only-of-type {\n",
              "        vertical-align: middle;\n",
              "    }\n",
              "\n",
              "    .dataframe tbody tr th {\n",
              "        vertical-align: top;\n",
              "    }\n",
              "\n",
              "    .dataframe thead th {\n",
              "        text-align: right;\n",
              "    }\n",
              "</style>\n",
              "<table border=\"1\" class=\"dataframe\">\n",
              "  <thead>\n",
              "    <tr style=\"text-align: right;\">\n",
              "      <th></th>\n",
              "      <th>Open</th>\n",
              "      <th>High</th>\n",
              "      <th>Low</th>\n",
              "      <th>Volume</th>\n",
              "    </tr>\n",
              "  </thead>\n",
              "  <tbody>\n",
              "    <tr>\n",
              "      <th>0</th>\n",
              "      <td>0.168839</td>\n",
              "      <td>0.207920</td>\n",
              "      <td>0.185347</td>\n",
              "      <td>0.364920</td>\n",
              "    </tr>\n",
              "    <tr>\n",
              "      <th>1</th>\n",
              "      <td>0.202603</td>\n",
              "      <td>0.192942</td>\n",
              "      <td>0.196439</td>\n",
              "      <td>0.237844</td>\n",
              "    </tr>\n",
              "    <tr>\n",
              "      <th>2</th>\n",
              "      <td>0.186037</td>\n",
              "      <td>0.180961</td>\n",
              "      <td>0.169026</td>\n",
              "      <td>0.204549</td>\n",
              "    </tr>\n",
              "    <tr>\n",
              "      <th>3</th>\n",
              "      <td>0.157371</td>\n",
              "      <td>0.154596</td>\n",
              "      <td>0.152712</td>\n",
              "      <td>0.170310</td>\n",
              "    </tr>\n",
              "    <tr>\n",
              "      <th>4</th>\n",
              "      <td>0.136979</td>\n",
              "      <td>0.152199</td>\n",
              "      <td>0.142922</td>\n",
              "      <td>0.182381</td>\n",
              "    </tr>\n",
              "    <tr>\n",
              "      <th>...</th>\n",
              "      <td>...</td>\n",
              "      <td>...</td>\n",
              "      <td>...</td>\n",
              "      <td>...</td>\n",
              "    </tr>\n",
              "    <tr>\n",
              "      <th>4383</th>\n",
              "      <td>0.243101</td>\n",
              "      <td>0.227449</td>\n",
              "      <td>0.256741</td>\n",
              "      <td>0.018186</td>\n",
              "    </tr>\n",
              "    <tr>\n",
              "      <th>4384</th>\n",
              "      <td>0.245057</td>\n",
              "      <td>0.242164</td>\n",
              "      <td>0.262752</td>\n",
              "      <td>0.040251</td>\n",
              "    </tr>\n",
              "    <tr>\n",
              "      <th>4385</th>\n",
              "      <td>0.255488</td>\n",
              "      <td>0.245843</td>\n",
              "      <td>0.272769</td>\n",
              "      <td>0.022647</td>\n",
              "    </tr>\n",
              "    <tr>\n",
              "      <th>4386</th>\n",
              "      <td>0.262007</td>\n",
              "      <td>0.245843</td>\n",
              "      <td>0.274772</td>\n",
              "      <td>0.010823</td>\n",
              "    </tr>\n",
              "    <tr>\n",
              "      <th>4387</th>\n",
              "      <td>0.262007</td>\n",
              "      <td>0.247069</td>\n",
              "      <td>0.274772</td>\n",
              "      <td>0.011909</td>\n",
              "    </tr>\n",
              "  </tbody>\n",
              "</table>\n",
              "<p>4388 rows × 4 columns</p>\n",
              "</div>\n",
              "    <div class=\"colab-df-buttons\">\n",
              "\n",
              "  <div class=\"colab-df-container\">\n",
              "    <button class=\"colab-df-convert\" onclick=\"convertToInteractive('df-c580060f-961d-410c-b4f6-6d73eb901067')\"\n",
              "            title=\"Convert this dataframe to an interactive table.\"\n",
              "            style=\"display:none;\">\n",
              "\n",
              "  <svg xmlns=\"http://www.w3.org/2000/svg\" height=\"24px\" viewBox=\"0 -960 960 960\">\n",
              "    <path d=\"M120-120v-720h720v720H120Zm60-500h600v-160H180v160Zm220 220h160v-160H400v160Zm0 220h160v-160H400v160ZM180-400h160v-160H180v160Zm440 0h160v-160H620v160ZM180-180h160v-160H180v160Zm440 0h160v-160H620v160Z\"/>\n",
              "  </svg>\n",
              "    </button>\n",
              "\n",
              "  <style>\n",
              "    .colab-df-container {\n",
              "      display:flex;\n",
              "      gap: 12px;\n",
              "    }\n",
              "\n",
              "    .colab-df-convert {\n",
              "      background-color: #E8F0FE;\n",
              "      border: none;\n",
              "      border-radius: 50%;\n",
              "      cursor: pointer;\n",
              "      display: none;\n",
              "      fill: #1967D2;\n",
              "      height: 32px;\n",
              "      padding: 0 0 0 0;\n",
              "      width: 32px;\n",
              "    }\n",
              "\n",
              "    .colab-df-convert:hover {\n",
              "      background-color: #E2EBFA;\n",
              "      box-shadow: 0px 1px 2px rgba(60, 64, 67, 0.3), 0px 1px 3px 1px rgba(60, 64, 67, 0.15);\n",
              "      fill: #174EA6;\n",
              "    }\n",
              "\n",
              "    .colab-df-buttons div {\n",
              "      margin-bottom: 4px;\n",
              "    }\n",
              "\n",
              "    [theme=dark] .colab-df-convert {\n",
              "      background-color: #3B4455;\n",
              "      fill: #D2E3FC;\n",
              "    }\n",
              "\n",
              "    [theme=dark] .colab-df-convert:hover {\n",
              "      background-color: #434B5C;\n",
              "      box-shadow: 0px 1px 3px 1px rgba(0, 0, 0, 0.15);\n",
              "      filter: drop-shadow(0px 1px 2px rgba(0, 0, 0, 0.3));\n",
              "      fill: #FFFFFF;\n",
              "    }\n",
              "  </style>\n",
              "\n",
              "    <script>\n",
              "      const buttonEl =\n",
              "        document.querySelector('#df-c580060f-961d-410c-b4f6-6d73eb901067 button.colab-df-convert');\n",
              "      buttonEl.style.display =\n",
              "        google.colab.kernel.accessAllowed ? 'block' : 'none';\n",
              "\n",
              "      async function convertToInteractive(key) {\n",
              "        const element = document.querySelector('#df-c580060f-961d-410c-b4f6-6d73eb901067');\n",
              "        const dataTable =\n",
              "          await google.colab.kernel.invokeFunction('convertToInteractive',\n",
              "                                                    [key], {});\n",
              "        if (!dataTable) return;\n",
              "\n",
              "        const docLinkHtml = 'Like what you see? Visit the ' +\n",
              "          '<a target=\"_blank\" href=https://colab.research.google.com/notebooks/data_table.ipynb>data table notebook</a>'\n",
              "          + ' to learn more about interactive tables.';\n",
              "        element.innerHTML = '';\n",
              "        dataTable['output_type'] = 'display_data';\n",
              "        await google.colab.output.renderOutput(dataTable, element);\n",
              "        const docLink = document.createElement('div');\n",
              "        docLink.innerHTML = docLinkHtml;\n",
              "        element.appendChild(docLink);\n",
              "      }\n",
              "    </script>\n",
              "  </div>\n",
              "\n",
              "\n",
              "<div id=\"df-4c13669a-8e5e-4a7b-b857-0a0d0f1c75fe\">\n",
              "  <button class=\"colab-df-quickchart\" onclick=\"quickchart('df-4c13669a-8e5e-4a7b-b857-0a0d0f1c75fe')\"\n",
              "            title=\"Suggest charts\"\n",
              "            style=\"display:none;\">\n",
              "\n",
              "<svg xmlns=\"http://www.w3.org/2000/svg\" height=\"24px\"viewBox=\"0 0 24 24\"\n",
              "     width=\"24px\">\n",
              "    <g>\n",
              "        <path d=\"M19 3H5c-1.1 0-2 .9-2 2v14c0 1.1.9 2 2 2h14c1.1 0 2-.9 2-2V5c0-1.1-.9-2-2-2zM9 17H7v-7h2v7zm4 0h-2V7h2v10zm4 0h-2v-4h2v4z\"/>\n",
              "    </g>\n",
              "</svg>\n",
              "  </button>\n",
              "\n",
              "<style>\n",
              "  .colab-df-quickchart {\n",
              "      --bg-color: #E8F0FE;\n",
              "      --fill-color: #1967D2;\n",
              "      --hover-bg-color: #E2EBFA;\n",
              "      --hover-fill-color: #174EA6;\n",
              "      --disabled-fill-color: #AAA;\n",
              "      --disabled-bg-color: #DDD;\n",
              "  }\n",
              "\n",
              "  [theme=dark] .colab-df-quickchart {\n",
              "      --bg-color: #3B4455;\n",
              "      --fill-color: #D2E3FC;\n",
              "      --hover-bg-color: #434B5C;\n",
              "      --hover-fill-color: #FFFFFF;\n",
              "      --disabled-bg-color: #3B4455;\n",
              "      --disabled-fill-color: #666;\n",
              "  }\n",
              "\n",
              "  .colab-df-quickchart {\n",
              "    background-color: var(--bg-color);\n",
              "    border: none;\n",
              "    border-radius: 50%;\n",
              "    cursor: pointer;\n",
              "    display: none;\n",
              "    fill: var(--fill-color);\n",
              "    height: 32px;\n",
              "    padding: 0;\n",
              "    width: 32px;\n",
              "  }\n",
              "\n",
              "  .colab-df-quickchart:hover {\n",
              "    background-color: var(--hover-bg-color);\n",
              "    box-shadow: 0 1px 2px rgba(60, 64, 67, 0.3), 0 1px 3px 1px rgba(60, 64, 67, 0.15);\n",
              "    fill: var(--button-hover-fill-color);\n",
              "  }\n",
              "\n",
              "  .colab-df-quickchart-complete:disabled,\n",
              "  .colab-df-quickchart-complete:disabled:hover {\n",
              "    background-color: var(--disabled-bg-color);\n",
              "    fill: var(--disabled-fill-color);\n",
              "    box-shadow: none;\n",
              "  }\n",
              "\n",
              "  .colab-df-spinner {\n",
              "    border: 2px solid var(--fill-color);\n",
              "    border-color: transparent;\n",
              "    border-bottom-color: var(--fill-color);\n",
              "    animation:\n",
              "      spin 1s steps(1) infinite;\n",
              "  }\n",
              "\n",
              "  @keyframes spin {\n",
              "    0% {\n",
              "      border-color: transparent;\n",
              "      border-bottom-color: var(--fill-color);\n",
              "      border-left-color: var(--fill-color);\n",
              "    }\n",
              "    20% {\n",
              "      border-color: transparent;\n",
              "      border-left-color: var(--fill-color);\n",
              "      border-top-color: var(--fill-color);\n",
              "    }\n",
              "    30% {\n",
              "      border-color: transparent;\n",
              "      border-left-color: var(--fill-color);\n",
              "      border-top-color: var(--fill-color);\n",
              "      border-right-color: var(--fill-color);\n",
              "    }\n",
              "    40% {\n",
              "      border-color: transparent;\n",
              "      border-right-color: var(--fill-color);\n",
              "      border-top-color: var(--fill-color);\n",
              "    }\n",
              "    60% {\n",
              "      border-color: transparent;\n",
              "      border-right-color: var(--fill-color);\n",
              "    }\n",
              "    80% {\n",
              "      border-color: transparent;\n",
              "      border-right-color: var(--fill-color);\n",
              "      border-bottom-color: var(--fill-color);\n",
              "    }\n",
              "    90% {\n",
              "      border-color: transparent;\n",
              "      border-bottom-color: var(--fill-color);\n",
              "    }\n",
              "  }\n",
              "</style>\n",
              "\n",
              "  <script>\n",
              "    async function quickchart(key) {\n",
              "      const quickchartButtonEl =\n",
              "        document.querySelector('#' + key + ' button');\n",
              "      quickchartButtonEl.disabled = true;  // To prevent multiple clicks.\n",
              "      quickchartButtonEl.classList.add('colab-df-spinner');\n",
              "      try {\n",
              "        const charts = await google.colab.kernel.invokeFunction(\n",
              "            'suggestCharts', [key], {});\n",
              "      } catch (error) {\n",
              "        console.error('Error during call to suggestCharts:', error);\n",
              "      }\n",
              "      quickchartButtonEl.classList.remove('colab-df-spinner');\n",
              "      quickchartButtonEl.classList.add('colab-df-quickchart-complete');\n",
              "    }\n",
              "    (() => {\n",
              "      let quickchartButtonEl =\n",
              "        document.querySelector('#df-4c13669a-8e5e-4a7b-b857-0a0d0f1c75fe button');\n",
              "      quickchartButtonEl.style.display =\n",
              "        google.colab.kernel.accessAllowed ? 'block' : 'none';\n",
              "    })();\n",
              "  </script>\n",
              "</div>\n",
              "\n",
              "  <div id=\"id_9b18aa88-91ea-4c8c-8d00-54aca4e88490\">\n",
              "    <style>\n",
              "      .colab-df-generate {\n",
              "        background-color: #E8F0FE;\n",
              "        border: none;\n",
              "        border-radius: 50%;\n",
              "        cursor: pointer;\n",
              "        display: none;\n",
              "        fill: #1967D2;\n",
              "        height: 32px;\n",
              "        padding: 0 0 0 0;\n",
              "        width: 32px;\n",
              "      }\n",
              "\n",
              "      .colab-df-generate:hover {\n",
              "        background-color: #E2EBFA;\n",
              "        box-shadow: 0px 1px 2px rgba(60, 64, 67, 0.3), 0px 1px 3px 1px rgba(60, 64, 67, 0.15);\n",
              "        fill: #174EA6;\n",
              "      }\n",
              "\n",
              "      [theme=dark] .colab-df-generate {\n",
              "        background-color: #3B4455;\n",
              "        fill: #D2E3FC;\n",
              "      }\n",
              "\n",
              "      [theme=dark] .colab-df-generate:hover {\n",
              "        background-color: #434B5C;\n",
              "        box-shadow: 0px 1px 3px 1px rgba(0, 0, 0, 0.15);\n",
              "        filter: drop-shadow(0px 1px 2px rgba(0, 0, 0, 0.3));\n",
              "        fill: #FFFFFF;\n",
              "      }\n",
              "    </style>\n",
              "    <button class=\"colab-df-generate\" onclick=\"generateWithVariable('x_train')\"\n",
              "            title=\"Generate code using this dataframe.\"\n",
              "            style=\"display:none;\">\n",
              "\n",
              "  <svg xmlns=\"http://www.w3.org/2000/svg\" height=\"24px\"viewBox=\"0 0 24 24\"\n",
              "       width=\"24px\">\n",
              "    <path d=\"M7,19H8.4L18.45,9,17,7.55,7,17.6ZM5,21V16.75L18.45,3.32a2,2,0,0,1,2.83,0l1.4,1.43a1.91,1.91,0,0,1,.58,1.4,1.91,1.91,0,0,1-.58,1.4L9.25,21ZM18.45,9,17,7.55Zm-12,3A5.31,5.31,0,0,0,4.9,8.1,5.31,5.31,0,0,0,1,6.5,5.31,5.31,0,0,0,4.9,4.9,5.31,5.31,0,0,0,6.5,1,5.31,5.31,0,0,0,8.1,4.9,5.31,5.31,0,0,0,12,6.5,5.46,5.46,0,0,0,6.5,12Z\"/>\n",
              "  </svg>\n",
              "    </button>\n",
              "    <script>\n",
              "      (() => {\n",
              "      const buttonEl =\n",
              "        document.querySelector('#id_9b18aa88-91ea-4c8c-8d00-54aca4e88490 button.colab-df-generate');\n",
              "      buttonEl.style.display =\n",
              "        google.colab.kernel.accessAllowed ? 'block' : 'none';\n",
              "\n",
              "      buttonEl.onclick = () => {\n",
              "        google.colab.notebook.generateWithVariable('x_train');\n",
              "      }\n",
              "      })();\n",
              "    </script>\n",
              "  </div>\n",
              "\n",
              "    </div>\n",
              "  </div>\n"
            ],
            "application/vnd.google.colaboratory.intrinsic+json": {
              "type": "dataframe",
              "variable_name": "x_train",
              "summary": "{\n  \"name\": \"x_train\",\n  \"rows\": 4388,\n  \"fields\": [\n    {\n      \"column\": \"Open\",\n      \"properties\": {\n        \"dtype\": \"number\",\n        \"std\": 0.1410186817857944,\n        \"min\": 0.0,\n        \"max\": 0.8645730789039632,\n        \"num_unique_values\": 1253,\n        \"samples\": [\n          0.29330004107204555,\n          0.395654186414932,\n          0.09902274609000647\n        ],\n        \"semantic_type\": \"\",\n        \"description\": \"\"\n      }\n    },\n    {\n      \"column\": \"High\",\n      \"properties\": {\n        \"dtype\": \"number\",\n        \"std\": 0.13523985917308373,\n        \"min\": 0.0,\n        \"max\": 0.8233003875018394,\n        \"num_unique_values\": 1268,\n        \"samples\": [\n          0.40771079609555116,\n          0.3427183989797421,\n          0.2576580664148722\n        ],\n        \"semantic_type\": \"\",\n        \"description\": \"\"\n      }\n    },\n    {\n      \"column\": \"Low\",\n      \"properties\": {\n        \"dtype\": \"number\",\n        \"std\": 0.1408836556148409,\n        \"min\": 0.0,\n        \"max\": 0.8327434455678282,\n        \"num_unique_values\": 1291,\n        \"samples\": [\n          0.32819574479451874,\n          0.1485582252614427,\n          0.36292121325444415\n        ],\n        \"semantic_type\": \"\",\n        \"description\": \"\"\n      }\n    },\n    {\n      \"column\": \"Volume\",\n      \"properties\": {\n        \"dtype\": \"number\",\n        \"std\": 0.029817096180600893,\n        \"min\": 0.0,\n        \"max\": 0.6297138156023211,\n        \"num_unique_values\": 4386,\n        \"samples\": [\n          0.03357031990776769,\n          0.01800177736486854,\n          0.08891485184286693\n        ],\n        \"semantic_type\": \"\",\n        \"description\": \"\"\n      }\n    }\n  ]\n}"
            }
          },
          "metadata": {},
          "execution_count": 88
        }
      ]
    },
    {
      "cell_type": "code",
      "source": [
        "import tensorflow as tf"
      ],
      "metadata": {
        "id": "a5USlp_UxC9h"
      },
      "execution_count": 89,
      "outputs": []
    },
    {
      "cell_type": "code",
      "source": [
        "def windowed_dataset(series, window_size, batch_size, shuffle):\n",
        "  series = tf.expand_dims(series, axis=-1)\n",
        "  ds=tf.data.Dataset.from_tensor_slices(series)\n",
        "  ds=ds.window(window_size + 1, shift=1, drop_remainder=True)\n",
        "  ds=ds.flat_map(lambda w :w.batch(window_size + 1)) # 잘라온 데이터를 window_size +1만큼 가져옴\n",
        "  if shuffle: #셔플이 true이면 ds를 1000줌(랜덤성)\n",
        "    ds=ds.shuffle(1000)\n",
        "  ds=ds.map(lambda w: (w[:-1], w[-1:])) #읽어온 애를 기준으로 처음부터 맨끝까지 읽어오기\n",
        "  return ds.batch(batch_size).prefetch(1)"
      ],
      "metadata": {
        "id": "EqhwAjwIx_XA"
      },
      "execution_count": 90,
      "outputs": []
    },
    {
      "cell_type": "code",
      "source": [
        "WINDOW_SIZE=20\n",
        "BATCH_SIZE=32"
      ],
      "metadata": {
        "id": "Q_JRDSh5yYYh"
      },
      "execution_count": 91,
      "outputs": []
    },
    {
      "cell_type": "code",
      "source": [
        "train_data=windowed_dataset(y_train,WINDOW_SIZE,BATCH_SIZE,True)\n",
        "test_data=windowed_dataset(y_test,WINDOW_SIZE,BATCH_SIZE,False)"
      ],
      "metadata": {
        "id": "8u0sgpNWycey"
      },
      "execution_count": 92,
      "outputs": []
    },
    {
      "cell_type": "code",
      "source": [
        "for data in train_data.take(1):\n",
        "  print(f'데이터셋(X) 구성(batch_size, window_size, feature갯수): {data[0].shape}')\n",
        "  print(f'데이터셋(Y) 구성(batch_size, window_size, feature갯수): {data[1].shape}')\n"
      ],
      "metadata": {
        "colab": {
          "base_uri": "https://localhost:8080/"
        },
        "id": "ESWuWlEQy_qS",
        "outputId": "e295f9dd-c63c-4e67-87cd-4577c50559a8"
      },
      "execution_count": 93,
      "outputs": [
        {
          "output_type": "stream",
          "name": "stdout",
          "text": [
            "데이터셋(X) 구성(batch_size, window_size, feature갯수): (32, 20, 1)\n",
            "데이터셋(Y) 구성(batch_size, window_size, feature갯수): (32, 1, 1)\n"
          ]
        }
      ]
    },
    {
      "cell_type": "code",
      "source": [
        "from tensorflow.keras.models import Sequential\n",
        "from tensorflow.keras.layers import Dense,LSTM,Conv1D,Lambda,Flatten\n",
        "from tensorflow.keras.optimizers import Adam\n",
        "from tensorflow.keras.callbacks import EarlyStopping,ModelCheckpoint\n",
        "\n",
        "\n",
        "\n",
        "model=Sequential([\n",
        "    Conv1D(filters=32,kernel_size=5,strides=1,padding='causal',activation='relu',input_shape=[WINDOW_SIZE,1]), #LSTM의 featurn뽑으려고?\n",
        "    LSTM(64,return_sequences=True),\n",
        "    LSTM(64, activation='tanh'),\n",
        "    Dense(16,activation='relu'),\n",
        "    Dense(1)\n",
        "])"
      ],
      "metadata": {
        "id": "PGY6HFh9zWaz"
      },
      "execution_count": 94,
      "outputs": []
    },
    {
      "cell_type": "code",
      "source": [
        "# Sequence 학습에 좋은 Huber사용\n",
        "from tensorflow.keras.losses import Huber\n",
        "loss = Huber()\n",
        "optimizer=Adam(0.001)\n",
        "model.compile(loss=Huber(),optimizer=optimizer,metrics=['mse'])"
      ],
      "metadata": {
        "id": "yYMsXK23z7GV"
      },
      "execution_count": 95,
      "outputs": []
    },
    {
      "cell_type": "code",
      "source": [
        "# earlystopping 은\n",
        "earlystopping=EarlyStopping(monitor='val_loss',patience=10)\n",
        "# val_loss 기준 체크포인터도 생성함\n",
        "filename=os.path.join('tmp', 'ckeckpointer.ckpt')\n",
        "checkpoint=ModelCheckpoint(filename,save_weights_only=True,save_best_only=True,monitor='val_loss',verbose=1)\n",
        "\n"
      ],
      "metadata": {
        "id": "egw3QtGa0lav"
      },
      "execution_count": 96,
      "outputs": []
    },
    {
      "cell_type": "code",
      "source": [
        "history=model.fit(train_data,epochs=50,validation_data=test_data,callbacks=[earlystopping,checkpoint])"
      ],
      "metadata": {
        "colab": {
          "base_uri": "https://localhost:8080/"
        },
        "id": "wqTsxeTC1EQk",
        "outputId": "0c44cb06-a0db-4aa7-f8f2-4b9c2b8a25d9"
      },
      "execution_count": 97,
      "outputs": [
        {
          "output_type": "stream",
          "name": "stdout",
          "text": [
            "Epoch 1/50\n",
            "    136/Unknown - 8s 25ms/step - loss: 0.0010 - mse: 0.0020\n",
            "Epoch 1: val_loss improved from inf to 0.00084, saving model to tmp/ckeckpointer.ckpt\n",
            "137/137 [==============================] - 10s 44ms/step - loss: 0.0010 - mse: 0.0020 - val_loss: 8.4369e-04 - val_mse: 0.0017\n",
            "Epoch 2/50\n",
            "135/137 [============================>.] - ETA: 0s - loss: 3.5884e-04 - mse: 7.1768e-04\n",
            "Epoch 2: val_loss improved from 0.00084 to 0.00067, saving model to tmp/ckeckpointer.ckpt\n",
            "137/137 [==============================] - 4s 27ms/step - loss: 3.5746e-04 - mse: 7.1492e-04 - val_loss: 6.6959e-04 - val_mse: 0.0013\n",
            "Epoch 3/50\n",
            "136/137 [============================>.] - ETA: 0s - loss: 2.6895e-04 - mse: 5.3791e-04\n",
            "Epoch 3: val_loss improved from 0.00067 to 0.00054, saving model to tmp/ckeckpointer.ckpt\n",
            "137/137 [==============================] - 4s 26ms/step - loss: 2.6854e-04 - mse: 5.3708e-04 - val_loss: 5.4154e-04 - val_mse: 0.0011\n",
            "Epoch 4/50\n",
            "137/137 [==============================] - ETA: 0s - loss: 2.3861e-04 - mse: 4.7722e-04\n",
            "Epoch 4: val_loss did not improve from 0.00054\n",
            "137/137 [==============================] - 5s 37ms/step - loss: 2.3861e-04 - mse: 4.7722e-04 - val_loss: 7.5896e-04 - val_mse: 0.0015\n",
            "Epoch 5/50\n",
            "137/137 [==============================] - ETA: 0s - loss: 2.0442e-04 - mse: 4.0883e-04\n",
            "Epoch 5: val_loss did not improve from 0.00054\n",
            "137/137 [==============================] - 4s 30ms/step - loss: 2.0442e-04 - mse: 4.0883e-04 - val_loss: 6.5893e-04 - val_mse: 0.0013\n",
            "Epoch 6/50\n",
            "137/137 [==============================] - ETA: 0s - loss: 1.8083e-04 - mse: 3.6166e-04\n",
            "Epoch 6: val_loss improved from 0.00054 to 0.00042, saving model to tmp/ckeckpointer.ckpt\n",
            "137/137 [==============================] - 5s 33ms/step - loss: 1.8083e-04 - mse: 3.6166e-04 - val_loss: 4.2453e-04 - val_mse: 8.4905e-04\n",
            "Epoch 7/50\n",
            "135/137 [============================>.] - ETA: 0s - loss: 1.5645e-04 - mse: 3.1289e-04\n",
            "Epoch 7: val_loss improved from 0.00042 to 0.00031, saving model to tmp/ckeckpointer.ckpt\n",
            "137/137 [==============================] - 5s 38ms/step - loss: 1.5540e-04 - mse: 3.1080e-04 - val_loss: 3.1267e-04 - val_mse: 6.2534e-04\n",
            "Epoch 8/50\n",
            "136/137 [============================>.] - ETA: 0s - loss: 1.4645e-04 - mse: 2.9291e-04\n",
            "Epoch 8: val_loss improved from 0.00031 to 0.00025, saving model to tmp/ckeckpointer.ckpt\n",
            "137/137 [==============================] - 4s 27ms/step - loss: 1.4656e-04 - mse: 2.9312e-04 - val_loss: 2.4597e-04 - val_mse: 4.9195e-04\n",
            "Epoch 9/50\n",
            "137/137 [==============================] - ETA: 0s - loss: 1.3591e-04 - mse: 2.7182e-04\n",
            "Epoch 9: val_loss improved from 0.00025 to 0.00022, saving model to tmp/ckeckpointer.ckpt\n",
            "137/137 [==============================] - 4s 29ms/step - loss: 1.3591e-04 - mse: 2.7182e-04 - val_loss: 2.2122e-04 - val_mse: 4.4243e-04\n",
            "Epoch 10/50\n",
            "136/137 [============================>.] - ETA: 0s - loss: 1.2552e-04 - mse: 2.5104e-04\n",
            "Epoch 10: val_loss did not improve from 0.00022\n",
            "137/137 [==============================] - 5s 35ms/step - loss: 1.2538e-04 - mse: 2.5077e-04 - val_loss: 3.8698e-04 - val_mse: 7.7397e-04\n",
            "Epoch 11/50\n",
            "136/137 [============================>.] - ETA: 0s - loss: 1.2680e-04 - mse: 2.5361e-04\n",
            "Epoch 11: val_loss did not improve from 0.00022\n",
            "137/137 [==============================] - 4s 28ms/step - loss: 1.2664e-04 - mse: 2.5328e-04 - val_loss: 2.4595e-04 - val_mse: 4.9190e-04\n",
            "Epoch 12/50\n",
            "137/137 [==============================] - ETA: 0s - loss: 9.7167e-05 - mse: 1.9433e-04\n",
            "Epoch 12: val_loss improved from 0.00022 to 0.00018, saving model to tmp/ckeckpointer.ckpt\n",
            "137/137 [==============================] - 4s 32ms/step - loss: 9.7167e-05 - mse: 1.9433e-04 - val_loss: 1.8112e-04 - val_mse: 3.6225e-04\n",
            "Epoch 13/50\n",
            "135/137 [============================>.] - ETA: 0s - loss: 1.0018e-04 - mse: 2.0035e-04\n",
            "Epoch 13: val_loss did not improve from 0.00018\n",
            "137/137 [==============================] - 4s 29ms/step - loss: 1.0039e-04 - mse: 2.0078e-04 - val_loss: 2.2701e-04 - val_mse: 4.5402e-04\n",
            "Epoch 14/50\n",
            "135/137 [============================>.] - ETA: 0s - loss: 9.3500e-05 - mse: 1.8700e-04\n",
            "Epoch 14: val_loss did not improve from 0.00018\n",
            "137/137 [==============================] - 4s 28ms/step - loss: 9.3330e-05 - mse: 1.8666e-04 - val_loss: 1.9312e-04 - val_mse: 3.8624e-04\n",
            "Epoch 15/50\n",
            "137/137 [==============================] - ETA: 0s - loss: 9.8578e-05 - mse: 1.9716e-04\n",
            "Epoch 15: val_loss did not improve from 0.00018\n",
            "137/137 [==============================] - 5s 38ms/step - loss: 9.8578e-05 - mse: 1.9716e-04 - val_loss: 1.9809e-04 - val_mse: 3.9618e-04\n",
            "Epoch 16/50\n",
            "135/137 [============================>.] - ETA: 0s - loss: 9.3281e-05 - mse: 1.8656e-04\n",
            "Epoch 16: val_loss did not improve from 0.00018\n",
            "137/137 [==============================] - 4s 29ms/step - loss: 9.2967e-05 - mse: 1.8593e-04 - val_loss: 2.1254e-04 - val_mse: 4.2509e-04\n",
            "Epoch 17/50\n",
            "137/137 [==============================] - ETA: 0s - loss: 8.7239e-05 - mse: 1.7448e-04\n",
            "Epoch 17: val_loss did not improve from 0.00018\n",
            "137/137 [==============================] - 5s 38ms/step - loss: 8.7239e-05 - mse: 1.7448e-04 - val_loss: 1.9482e-04 - val_mse: 3.8963e-04\n",
            "Epoch 18/50\n",
            "137/137 [==============================] - ETA: 0s - loss: 8.5392e-05 - mse: 1.7078e-04\n",
            "Epoch 18: val_loss did not improve from 0.00018\n",
            "137/137 [==============================] - 4s 32ms/step - loss: 8.5392e-05 - mse: 1.7078e-04 - val_loss: 1.9252e-04 - val_mse: 3.8505e-04\n",
            "Epoch 19/50\n",
            "136/137 [============================>.] - ETA: 0s - loss: 8.6674e-05 - mse: 1.7335e-04\n",
            "Epoch 19: val_loss did not improve from 0.00018\n",
            "137/137 [==============================] - 5s 35ms/step - loss: 8.6526e-05 - mse: 1.7305e-04 - val_loss: 2.0012e-04 - val_mse: 4.0024e-04\n",
            "Epoch 20/50\n",
            "136/137 [============================>.] - ETA: 0s - loss: 8.4687e-05 - mse: 1.6937e-04\n",
            "Epoch 20: val_loss did not improve from 0.00018\n",
            "137/137 [==============================] - 4s 29ms/step - loss: 8.4496e-05 - mse: 1.6899e-04 - val_loss: 2.0418e-04 - val_mse: 4.0835e-04\n",
            "Epoch 21/50\n",
            "137/137 [==============================] - ETA: 0s - loss: 9.7100e-05 - mse: 1.9420e-04\n",
            "Epoch 21: val_loss did not improve from 0.00018\n",
            "137/137 [==============================] - 5s 33ms/step - loss: 9.7100e-05 - mse: 1.9420e-04 - val_loss: 1.9148e-04 - val_mse: 3.8297e-04\n",
            "Epoch 22/50\n",
            "136/137 [============================>.] - ETA: 0s - loss: 8.4979e-05 - mse: 1.6996e-04\n",
            "Epoch 22: val_loss did not improve from 0.00018\n",
            "137/137 [==============================] - 4s 29ms/step - loss: 8.4879e-05 - mse: 1.6976e-04 - val_loss: 2.2572e-04 - val_mse: 4.5144e-04\n"
          ]
        }
      ]
    },
    {
      "cell_type": "code",
      "source": [
        "model.load_weights(filename)"
      ],
      "metadata": {
        "colab": {
          "base_uri": "https://localhost:8080/"
        },
        "id": "6YxVtNkI2S8F",
        "outputId": "3c7cadc6-ed93-4c89-e946-0356e2b1b630"
      },
      "execution_count": 98,
      "outputs": [
        {
          "output_type": "execute_result",
          "data": {
            "text/plain": [
              "<tensorflow.python.checkpoint.checkpoint.CheckpointLoadStatus at 0x7f2da6a50be0>"
            ]
          },
          "metadata": {},
          "execution_count": 98
        }
      ]
    },
    {
      "cell_type": "code",
      "source": [
        "pred=model.predict(test_data)"
      ],
      "metadata": {
        "colab": {
          "base_uri": "https://localhost:8080/"
        },
        "id": "Jkv8puBa1HQQ",
        "outputId": "169172ca-413b-43cc-96c7-1792e6daaff8"
      },
      "execution_count": 99,
      "outputs": [
        {
          "output_type": "stream",
          "name": "stdout",
          "text": [
            "34/34 [==============================] - 1s 10ms/step\n"
          ]
        }
      ]
    },
    {
      "cell_type": "code",
      "source": [
        "pred.shape"
      ],
      "metadata": {
        "colab": {
          "base_uri": "https://localhost:8080/"
        },
        "id": "4NcS4SOn2QmJ",
        "outputId": "3bbab0b3-3070-4726-cc05-beaaa5abe5e3"
      },
      "execution_count": 100,
      "outputs": [
        {
          "output_type": "execute_result",
          "data": {
            "text/plain": [
              "(1078, 1)"
            ]
          },
          "metadata": {},
          "execution_count": 100
        }
      ]
    },
    {
      "cell_type": "code",
      "source": [
        "plt.figure(figsize=(12,9))\n",
        "plt.plot(np.asarray(y_test)[20:],label='actual')\n",
        "plt.plot(pred,label='Prediction')\n",
        "plt.legend()\n",
        "plt.show()"
      ],
      "metadata": {
        "colab": {
          "base_uri": "https://localhost:8080/",
          "height": 753
        },
        "id": "_0aDczmw2fTt",
        "outputId": "5e24d599-6965-4f36-a709-26d44cce684d"
      },
      "execution_count": 101,
      "outputs": [
        {
          "output_type": "display_data",
          "data": {
            "text/plain": [
              "<Figure size 1200x900 with 1 Axes>"
            ],
            "image/png": "[encoded data removed]"
          },
          "metadata": {}
        }
      ]
    },
    {
      "cell_type": "code",
      "source": [],
      "metadata": {
        "id": "J9Al6rLn3KbA"
      },
      "execution_count": null,
      "outputs": []
    }
  ]
}